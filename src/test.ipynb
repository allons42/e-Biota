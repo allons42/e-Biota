{
 "cells": [
  {
   "cell_type": "code",
   "execution_count": 54,
   "id": "29dd30a0",
   "metadata": {},
   "outputs": [],
   "source": [
    "import json\n",
    " \n",
    "with open('config.json', 'r') as file:\n",
    "    data = json.load(file)"
   ]
  },
  {
   "cell_type": "code",
   "execution_count": 55,
   "id": "bec5bc2d",
   "metadata": {},
   "outputs": [
    {
     "data": {
      "text/plain": [
       "{'suffix': 'xml',\n",
       " 'path_GEM': 'GEM',\n",
       " 'path_rewrite': 'rewrite_GEM',\n",
       " 'medium': 'stats/BasicLB_medium.csv',\n",
       " 'ERR_LOG': './errorLog.txt',\n",
       " 'LOG': './Log.txt',\n",
       " 'max_proc': 10,\n",
       " 'prune': True,\n",
       " 'substrate': 'glc__D_e',\n",
       " 'intermediate': 'default',\n",
       " 'product': 'h2_e'}"
      ]
     },
     "execution_count": 55,
     "metadata": {},
     "output_type": "execute_result"
    }
   ],
   "source": [
    "data"
   ]
  },
  {
   "cell_type": "code",
   "execution_count": 20,
   "id": "4bf6ebe7",
   "metadata": {},
   "outputs": [],
   "source": [
    "from parse_path import get_metabolite_name_dict_direct\n",
    "d = get_metabolite_name_dict_direct()"
   ]
  },
  {
   "cell_type": "code",
   "execution_count": 15,
   "id": "3ca21ab9",
   "metadata": {},
   "outputs": [],
   "source": [
    "import pandas as pd\n",
    "import random"
   ]
  },
  {
   "cell_type": "code",
   "execution_count": 16,
   "id": "f37692b4",
   "metadata": {},
   "outputs": [],
   "source": [
    "tax = pd.read_csv(\"/data3/jhhou/ebiota/stats/carveme_gem_taxonomy.csv\")\n",
    "c = random.sample(list(tax[\"genus\"].value_counts().keys()), 100)\n",
    "gcf = []\n",
    "for g in c:\n",
    "    df = tax[tax[\"genus\"] == g]\n",
    "    gcf.append(random.choice(df[\"assembly\"].values))"
   ]
  },
  {
   "cell_type": "code",
   "execution_count": 18,
   "id": "7b80c8b2",
   "metadata": {},
   "outputs": [
    {
     "name": "stdout",
     "output_type": "stream",
     "text": [
      "33\n"
     ]
    }
   ],
   "source": [
    "new_gcf = []\n",
    "for g in gcf:\n",
    "    df = pd.read_csv(\"/data3/jhhou/ebiota/bacteria_label_fva_level30/\" + g + \".txt\")\n",
    "    if (len(df[(df[\"label\"]==\"good\") & (df[\"product\"]==\"h2_e\")]) == 0):\n",
    "        pass\n",
    "    else:\n",
    "        new_gcf.append(g)\n",
    "print(len(new_gcf))"
   ]
  },
  {
   "cell_type": "code",
   "execution_count": 19,
   "id": "30ebcb89",
   "metadata": {},
   "outputs": [],
   "source": [
    "import os\n",
    "x = random.sample(new_gcf, 20)\n",
    "for g in x:\n",
    "    os.system(f\"cp /data3/jhhou/ebiota/GEM/bacteria/Carve_RefSeq/{g}.xml ./GEM/\")"
   ]
  },
  {
   "cell_type": "code",
   "execution_count": 1,
   "id": "0910dcff",
   "metadata": {},
   "outputs": [],
   "source": [
    "from eBiota_utils import config\n",
    "from tqdm import tqdm\n",
    "import cobra\n",
    "import os"
   ]
  },
  {
   "cell_type": "code",
   "execution_count": 2,
   "id": "d759a668",
   "metadata": {},
   "outputs": [],
   "source": [
    "root_old = config[\"path_GEM\"]\n",
    "root_new = config[\"path_rewrite\"]\n",
    "suffix = config[\"suffix\"]\n",
    "\n",
    "files = os.listdir(root_old)\n",
    "files = [x for x in files if x.endswith(suffix)]\n"
   ]
  },
  {
   "cell_type": "code",
   "execution_count": 4,
   "id": "16af6b58",
   "metadata": {},
   "outputs": [
    {
     "data": {
      "text/plain": [
       "<optlang.gurobi_interface.Model at 0x7fb10cc47630>"
      ]
     },
     "execution_count": 4,
     "metadata": {},
     "output_type": "execute_result"
    }
   ],
   "source": [
    "gem.solver"
   ]
  },
  {
   "cell_type": "code",
   "execution_count": 5,
   "id": "8b7221ee",
   "metadata": {},
   "outputs": [],
   "source": [
    "from eBiota_utils import get_good_bacteria"
   ]
  },
  {
   "cell_type": "code",
   "execution_count": 6,
   "id": "45cbcefa",
   "metadata": {},
   "outputs": [],
   "source": [
    "bac_good = get_good_bacteria()"
   ]
  },
  {
   "cell_type": "code",
   "execution_count": 7,
   "id": "f1947ed1",
   "metadata": {},
   "outputs": [
    {
     "data": {
      "text/plain": [
       "{}"
      ]
     },
     "execution_count": 7,
     "metadata": {},
     "output_type": "execute_result"
    }
   ],
   "source": [
    "bac_good"
   ]
  },
  {
   "cell_type": "code",
   "execution_count": 24,
   "id": "1a42f27a",
   "metadata": {},
   "outputs": [],
   "source": [
    "import pickle\n",
    "with open(\"tmp/all_path_sole_carbon.pkl\", \"rb\") as f:\n",
    "        path_all = pickle.load(f)"
   ]
  },
  {
   "cell_type": "code",
   "execution_count": 25,
   "id": "b932de37",
   "metadata": {},
   "outputs": [
    {
     "data": {
      "text/plain": [
       "[]"
      ]
     },
     "execution_count": 25,
     "metadata": {},
     "output_type": "execute_result"
    }
   ],
   "source": [
    "path_all"
   ]
  },
  {
   "cell_type": "code",
   "execution_count": 12,
   "id": "d2a1e3d1",
   "metadata": {},
   "outputs": [
    {
     "data": {
      "text/plain": [
       "61.558757828293146"
      ]
     },
     "execution_count": 12,
     "metadata": {},
     "output_type": "execute_result"
    }
   ],
   "source": [
    "gem.optimize().objective_value"
   ]
  },
  {
   "cell_type": "code",
   "execution_count": 29,
   "id": "ba3a10dd",
   "metadata": {},
   "outputs": [],
   "source": [
    "fs = os.listdir(\"/data3/jhhou/ebiota/FVA_result_completion/\")\n",
    "fs = [x for x in fs if \"glc__D_e__to__h2_e\" in x]"
   ]
  },
  {
   "cell_type": "code",
   "execution_count": 30,
   "id": "0a2bf77d",
   "metadata": {},
   "outputs": [
    {
     "data": {
      "text/plain": [
       "['glc__D_e__to__h2_e__without_O2__with_glucose.txt',\n",
       " 'glc__D_e__to__h2_e__with_O2__with_glucose.txt']"
      ]
     },
     "execution_count": 30,
     "metadata": {},
     "output_type": "execute_result"
    }
   ],
   "source": [
    "fs"
   ]
  },
  {
   "cell_type": "code",
   "execution_count": 31,
   "id": "8619a9cf",
   "metadata": {},
   "outputs": [],
   "source": [
    "df = pd.read_csv(\"/data3/jhhou/ebiota/FVA_result_completion/\" + fs[0], sep=\"\\t\")"
   ]
  },
  {
   "cell_type": "code",
   "execution_count": 34,
   "id": "952425a3",
   "metadata": {},
   "outputs": [],
   "source": [
    "df2 = df[(df[\"Growth1\"] > 0) & (df[\"Growth2\"] > 0)]\n"
   ]
  },
  {
   "cell_type": "code",
   "execution_count": 40,
   "id": "88481b65",
   "metadata": {},
   "outputs": [],
   "source": [
    "bac = list(df2[\"Bac1\"][:20]) + list(df2[\"Bac2\"][:20])\n",
    "bac = set(bac)\n",
    "bac = [x[:-2]+\".\"+x[-1] for x in bac]"
   ]
  },
  {
   "cell_type": "code",
   "execution_count": 43,
   "id": "b2f32295",
   "metadata": {},
   "outputs": [],
   "source": [
    "import os\n",
    "x = random.sample(bac, 20)\n",
    "for g in x:\n",
    "    os.system(f\"cp /data3/jhhou/ebiota/GEM/bacteria/Carve_RefSeq/{g}.xml ./GEM/\")"
   ]
  },
  {
   "cell_type": "code",
   "execution_count": null,
   "id": "d2b29758",
   "metadata": {},
   "outputs": [],
   "source": []
  }
 ],
 "metadata": {
  "kernelspec": {
   "display_name": "cobranet",
   "language": "python",
   "name": "python3"
  },
  "language_info": {
   "codemirror_mode": {
    "name": "ipython",
    "version": 3
   },
   "file_extension": ".py",
   "mimetype": "text/x-python",
   "name": "python",
   "nbconvert_exporter": "python",
   "pygments_lexer": "ipython3",
   "version": "3.7.1"
  }
 },
 "nbformat": 4,
 "nbformat_minor": 5
}
